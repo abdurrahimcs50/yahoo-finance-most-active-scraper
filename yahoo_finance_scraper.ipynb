{
 "cells": [
  {
   "cell_type": "markdown",
   "metadata": {},
   "source": [
    "# Step-by-Step Procedural Code"
   ]
  },
  {
   "cell_type": "markdown",
   "metadata": {},
   "source": [
    "## 1. Install Required Libraries"
   ]
  },
  {
   "cell_type": "code",
   "execution_count": null,
   "metadata": {},
   "outputs": [],
   "source": [
    "# Install required libraries\n",
    "!pip install selenium pandas numpy openpyxl ipykernel==6.29.5"
   ]
  },
  {
   "cell_type": "markdown",
   "metadata": {},
   "source": [
    "## 2. Import Libraries"
   ]
  },
  {
   "cell_type": "code",
   "execution_count": 19,
   "metadata": {},
   "outputs": [],
   "source": [
    "import time\n",
    "import numpy as np\n",
    "import pandas as pd\n",
    "from selenium import webdriver\n",
    "from selenium.webdriver.common.by import By\n",
    "from selenium.webdriver.support.ui import WebDriverWait\n",
    "from selenium.webdriver.support import expected_conditions as EC\n",
    "from selenium.webdriver.common.action_chains import ActionChains"
   ]
  },
  {
   "cell_type": "markdown",
   "metadata": {},
   "source": [
    "## 3. Initialize the WebDriver"
   ]
  },
  {
   "cell_type": "code",
   "execution_count": 20,
   "metadata": {},
   "outputs": [],
   "source": [
    "# Initialize the WebDriver\n",
    "driver = webdriver.Chrome()\n",
    "driver.maximize_window()"
   ]
  },
  {
   "cell_type": "markdown",
   "metadata": {},
   "source": [
    "#### 4. Define Helper Functions"
   ]
  },
  {
   "cell_type": "code",
   "execution_count": 21,
   "metadata": {},
   "outputs": [],
   "source": [
    "# Function to wait for the page to load\n",
    "def wait_for_page_to_load(driver, wait):\n",
    "    page_title = driver.title\n",
    "    try:\n",
    "        wait.until(\n",
    "            lambda d: d.execute_script(\"return document.readyState\") == \"complete\"\n",
    "        )\n",
    "    except:\n",
    "        print(f'The page \"{page_title}\" did not get fully loaded within the given duration.\\n')\n",
    "    else:\n",
    "        print(f'The page \"{page_title}\" is fully loaded.\\n')"
   ]
  },
  {
   "cell_type": "markdown",
   "metadata": {},
   "source": [
    "#### 5. Access Yahoo Finance"
   ]
  },
  {
   "cell_type": "code",
   "execution_count": 23,
   "metadata": {},
   "outputs": [
    {
     "name": "stdout",
     "output_type": "stream",
     "text": [
      "The page \"Yahoo Finance - Stock Market Live, Quotes, Business & Finance News\" is fully loaded.\n",
      "\n"
     ]
    }
   ],
   "source": [
    "# Access Yahoo Finance\n",
    "url = \"https://finance.yahoo.com/\"\n",
    "driver.get(url)\n",
    "\n",
    "# Wait for the page to load\n",
    "wait = WebDriverWait(driver, 5)\n",
    "wait_for_page_to_load(driver, wait)"
   ]
  },
  {
   "cell_type": "markdown",
   "metadata": {},
   "source": [
    "#### 6. Navigate to Most Active Stocks"
   ]
  },
  {
   "cell_type": "code",
   "execution_count": 24,
   "metadata": {},
   "outputs": [
    {
     "name": "stdout",
     "output_type": "stream",
     "text": [
      "The page \"Yahoo Finance - Stock Market Live, Quotes, Business & Finance News\" is fully loaded.\n",
      "\n",
      "The page \"Top Trending Stocks: US stocks with the highest interest today - Yahoo Finance\" is fully loaded.\n",
      "\n"
     ]
    }
   ],
   "source": [
    "# Hover over the Markets menu\n",
    "actions = ActionChains(driver)\n",
    "markets_menu = wait.until(\n",
    "    EC.presence_of_element_located((By.XPATH, '/html[1]/body[1]/div[2]/header[1]/div[1]/div[1]/div[1]/div[4]/div[1]/div[1]/ul[1]/li[3]/a[1]/span[1]'))\n",
    ")\n",
    "actions.move_to_element(markets_menu).perform()\n",
    "\n",
    "# Click on Trending Tickers\n",
    "trending_tickers = wait.until(\n",
    "    EC.element_to_be_clickable((By.XPATH, '/html[1]/body[1]/div[2]/header[1]/div[1]/div[1]/div[1]/div[4]/div[1]/div[1]/ul[1]/li[3]/div[1]/ul[1]/li[4]/a[1]/div[1]'))\n",
    ")\n",
    "trending_tickers.click()\n",
    "wait_for_page_to_load(driver, wait)\n",
    "\n",
    "# Click on Most Active\n",
    "most_active = wait.until(\n",
    "    EC.element_to_be_clickable((By.XPATH, '/html[1]/body[1]/div[2]/main[1]/section[1]/section[1]/section[1]/article[1]/section[1]/div[1]/nav[1]/ul[1]/li[1]/a[1]/span[1]'))\n",
    ")\n",
    "most_active.click()\n",
    "wait_for_page_to_load(driver, wait)"
   ]
  },
  {
   "cell_type": "markdown",
   "metadata": {},
   "source": [
    "#### 7. Extract Data"
   ]
  },
  {
   "cell_type": "code",
   "execution_count": 25,
   "metadata": {},
   "outputs": [
    {
     "name": "stdout",
     "output_type": "stream",
     "text": [
      "The \"next\" button is not clickable. We have navigated through all the pages.\n"
     ]
    }
   ],
   "source": [
    "# Extract data from all pages\n",
    "data = []\n",
    "while True:\n",
    "    # Wait for the table to load\n",
    "    wait.until(\n",
    "        EC.presence_of_element_located((By.TAG_NAME, \"table\"))\n",
    "    )\n",
    "    rows = driver.find_elements(By.CSS_SELECTOR, \"table tbody tr\")\n",
    "    for row in rows:\n",
    "        values = row.find_elements(By.TAG_NAME, \"td\")\n",
    "        stock = {\n",
    "            \"name\": values[1].text,\n",
    "            \"symbol\": values[0].text,\n",
    "            \"price\": values[3].text,\n",
    "            \"change\": values[4].text,\n",
    "            \"volume\": values[6].text,\n",
    "            \"market_cap\": values[8].text,\n",
    "            \"pe_ratio\": values[9].text,\n",
    "        }\n",
    "        data.append(stock)\n",
    "\n",
    "    # Click next\n",
    "    try:\n",
    "        next_button = wait.until(\n",
    "            EC.element_to_be_clickable((By.XPATH, '//*[@id=\"nimbus-app\"]/section/section/section/article/section[1]/div/div[3]/div[3]/button[3]'))\n",
    "        )\n",
    "    except:\n",
    "        print('The \"next\" button is not clickable. We have navigated through all the pages.')\n",
    "        break\n",
    "    else:\n",
    "        next_button.click()\n",
    "        time.sleep(1)"
   ]
  },
  {
   "cell_type": "markdown",
   "metadata": {},
   "source": [
    "#### 8. Clean and Save Data"
   ]
  },
  {
   "cell_type": "code",
   "execution_count": 26,
   "metadata": {},
   "outputs": [
    {
     "name": "stdout",
     "output_type": "stream",
     "text": [
      "Data saved to yahoo_finance_stocks.xlsx\n"
     ]
    }
   ],
   "source": [
    "# Clean and save data\n",
    "stocks_df = (\n",
    "    pd.DataFrame(data)\n",
    "    .apply(lambda col: col.str.strip() if col.dtype == \"object\" else col)\n",
    "    .assign(\n",
    "        price=lambda df_: pd.to_numeric(df_.price),\n",
    "        change=lambda df_: pd.to_numeric(df_.change.str.replace(\"+\", \"\")),\n",
    "        volume=lambda df_: pd.to_numeric(df_.volume.str.replace(\"M\", \"\")),\n",
    "        market_cap=lambda df_: df_.market_cap.apply(lambda val: float(val.replace(\"B\", \"\")) if \"B\" in val else float(val.replace(\"T\", \"\")) * 1000),\n",
    "        pe_ratio=lambda df_: (\n",
    "            df_.pe_ratio.replace(\"-\", np.nan).str.replace(\",\", \"\").pipe(lambda col: pd.to_numeric(col))\n",
    "        )\n",
    "    )\n",
    "    .rename(columns={\n",
    "        \"price\": \"price_usd\",\n",
    "        \"volume\": \"volume_M\",\n",
    "        \"market_cap\": \"market_cap_B\"\n",
    "    })\n",
    ")\n",
    "\n",
    "# Save to Excel\n",
    "stocks_df.to_excel(\"yahoo_finance_stocks.xlsx\", index=False)\n",
    "print(\"Data saved to yahoo_finance_stocks.xlsx\")"
   ]
  },
  {
   "cell_type": "markdown",
   "metadata": {},
   "source": [
    "#### 9. Close the Browser"
   ]
  },
  {
   "cell_type": "code",
   "execution_count": 27,
   "metadata": {},
   "outputs": [],
   "source": [
    "# Close the browser\n",
    "driver.quit()"
   ]
  },
  {
   "cell_type": "markdown",
   "metadata": {},
   "source": [
    "#  Define the StocksScraper Class"
   ]
  },
  {
   "cell_type": "code",
   "execution_count": null,
   "metadata": {},
   "outputs": [],
   "source": [
    "class StocksScraper:\n",
    "    def __init__(self, driver, timeout=10):\n",
    "        self.driver = driver\n",
    "        self.wait = WebDriverWait(self.driver, timeout=timeout)\n",
    "        self.data = []\n",
    "\n",
    "    # Wait while webpage loads\n",
    "    def wait_for_page_to_load(self):\n",
    "        page_title = self.driver.title\n",
    "        try:\n",
    "            self.wait.until(\n",
    "                lambda d: d.execute_script(\"return document.readyState\") == \"complete\"\n",
    "            )\n",
    "        except:\n",
    "            print(f'The page \"{page_title}\" did not get fully loaded within the given duration.\\n')\n",
    "        else:\n",
    "            print(f'The page \"{page_title}\" is fully loaded.\\n')\n",
    "\n",
    "    # Access main URL\n",
    "    def access_url(self, url):\n",
    "        self.driver.get(url)\n",
    "        self.wait_for_page_to_load()\n",
    "\n",
    "    # Access most active stocks webpage\n",
    "    def access_most_active_stocks(self):\n",
    "        # Hover to markets menu\n",
    "        actions = ActionChains(self.driver)\n",
    "        markets_menu = self.wait.until(\n",
    "            EC.presence_of_element_located((By.XPATH, '/html[1]/body[1]/div[2]/header[1]/div[1]/div[1]/div[1]/div[4]/div[1]/div[1]/ul[1]/li[3]/a[1]/span[1]'))\n",
    "        )\n",
    "        actions.move_to_element(markets_menu).perform()\n",
    "\n",
    "        # Click on Trending Tickers\n",
    "        trending_tickers = self.wait.until(\n",
    "            EC.element_to_be_clickable((By.XPATH, '/html[1]/body[1]/div[2]/header[1]/div[1]/div[1]/div[1]/div[4]/div[1]/div[1]/ul[1]/li[3]/div[1]/ul[1]/li[4]/a[1]/div[1]'))\n",
    "        )\n",
    "        trending_tickers.click()\n",
    "        self.wait_for_page_to_load()\n",
    "\n",
    "        # Click on Most Active\n",
    "        most_active = self.wait.until(\n",
    "            EC.element_to_be_clickable((By.XPATH, '/html[1]/body[1]/div[2]/main[1]/section[1]/section[1]/section[1]/article[1]/section[1]/div[1]/nav[1]/ul[1]/li[1]/a[1]/span[1]'))\n",
    "        )\n",
    "        most_active.click()\n",
    "        self.wait_for_page_to_load()\n",
    "\n",
    "    # Extract data from all pages\n",
    "    def extract_stocks_data(self):\n",
    "        while True:\n",
    "            self.wait.until(\n",
    "                EC.presence_of_element_located((By.TAG_NAME, \"table\"))\n",
    "            )\n",
    "            rows = self.driver.find_elements(By.CSS_SELECTOR, \"table tbody tr\")\n",
    "            for row in rows:\n",
    "                values = row.find_elements(By.TAG_NAME, \"td\")\n",
    "                stock = {\n",
    "                    \"name\": values[1].text,\n",
    "                    \"symbol\": values[0].text,\n",
    "                    \"price\": values[3].text,\n",
    "                    \"change\": values[4].text,\n",
    "                    \"volume\": values[6].text,\n",
    "                    \"market_cap\": values[8].text,\n",
    "                    \"pe_ratio\": values[9].text,\n",
    "                }\n",
    "                self.data.append(stock)\n",
    "\n",
    "            # Click next\n",
    "            try:\n",
    "                next_button = self.wait.until(\n",
    "                    EC.element_to_be_clickable((By.XPATH, '//*[@id=\"nimbus-app\"]/section/section/section/article/section[1]/div/div[3]/div[3]/button[3]'))\n",
    "                )\n",
    "            except:\n",
    "                print('The \"next\" button is not clickable. We have navigated through all the pages.')\n",
    "                break\n",
    "            else:\n",
    "                next_button.click()\n",
    "                time.sleep(1)\n",
    "\n",
    "    # Clean and save data\n",
    "    def clean_and_save_data(self, filename=\"yahoo_finance_stocks\"):\n",
    "        stocks_df = (\n",
    "            pd.DataFrame(self.data)\n",
    "            .apply(lambda col: col.str.strip() if col.dtype == \"object\" else col)\n",
    "            .assign(\n",
    "                price=lambda df_: pd.to_numeric(df_.price),\n",
    "                change=lambda df_: pd.to_numeric(df_.change.str.replace(\"+\", \"\")),\n",
    "                volume=lambda df_: pd.to_numeric(df_.volume.str.replace(\"M\", \"\")),\n",
    "                market_cap=lambda df_: df_.market_cap.apply(lambda val: float(val.replace(\"B\", \"\")) if \"B\" in val else float(val.replace(\"T\", \"\")) * 1000),\n",
    "                pe_ratio=lambda df_: (\n",
    "                    df_.pe_ratio.replace(\"-\", np.nan).str.replace(\",\", \"\").pipe(lambda col: pd.to_numeric(col))\n",
    "                )\n",
    "            )\n",
    "            .rename(columns={\n",
    "                \"price\": \"price_usd\",\n",
    "                \"volume\": \"volume_M\",\n",
    "                \"market_cap\": \"market_cap_B\"\n",
    "            })\n",
    "        )\n",
    "        stocks_df.to_excel(f\"{filename}.xlsx\", index=False)\n",
    "        print(f\"Data saved to {filename}.xlsx\")"
   ]
  },
  {
   "cell_type": "markdown",
   "metadata": {},
   "source": [
    "## Initialize and Run the Scraper"
   ]
  },
  {
   "cell_type": "code",
   "execution_count": null,
   "metadata": {},
   "outputs": [],
   "source": [
    "# Initialize the scraper\n",
    "driver = webdriver.Chrome()\n",
    "driver.maximize_window()\n",
    "\n",
    "url = \"https://finance.yahoo.com/\"\n",
    "scraper = StocksScraper(driver, 5)\n",
    "\n",
    "# Scrape data\n",
    "scraper.access_url(url)\n",
    "scraper.access_most_active_stocks()\n",
    "scraper.extract_stocks_data()\n",
    "scraper.clean_and_save_data(\"yahoo_finance_stocks\")\n",
    "\n",
    "# Close the browser\n",
    "driver.quit()"
   ]
  }
 ],
 "metadata": {
  "kernelspec": {
   "display_name": "env",
   "language": "python",
   "name": "python3"
  },
  "language_info": {
   "codemirror_mode": {
    "name": "ipython",
    "version": 3
   },
   "file_extension": ".py",
   "mimetype": "text/x-python",
   "name": "python",
   "nbconvert_exporter": "python",
   "pygments_lexer": "ipython3",
   "version": "3.11.4"
  }
 },
 "nbformat": 4,
 "nbformat_minor": 2
}
